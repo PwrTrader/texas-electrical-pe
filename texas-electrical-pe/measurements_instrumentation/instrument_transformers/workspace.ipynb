{
 "cells": [
  {
   "cell_type": "markdown",
   "metadata": {},
   "source": [
    "## Measurements & Instrumentation ##\n",
    "##### makes up about 5% - 8% of the exam or 4 - 6 questions out of 80. ######\n"
   ]
  },
  {
   "cell_type": "code",
   "execution_count": null,
   "metadata": {},
   "outputs": [
    {
     "name": "stdout",
     "output_type": "stream",
     "text": [
      "c:\\Users\\carsw\\texas-electrical-pe\\texas-electrical-pe\\measuremetns_instrumentation\n",
      "['main.py', 'measuments_instrumentation.ipynb', '__pycache__']\n",
      "c:\\Users\\carsw\n",
      "['.bash_history', '.gitconfig', '.ipython', '.jupyter', '.lesshst', '.vscode', 'AppData', 'Application Data', 'Contacts', 'Cookies', 'Documents', 'Downloads', 'electPE', 'Favorites', 'Links', 'Local Settings', 'Music', 'My Documents', 'NetHood', 'NTUSER.DAT', 'ntuser.dat.LOG1', 'ntuser.dat.LOG2', 'NTUSER.DAT{0080b7e5-dcba-11ee-af10-00eebcdb9393}.TM.blf', 'NTUSER.DAT{0080b7e5-dcba-11ee-af10-00eebcdb9393}.TMContainer00000000000000000001.regtrans-ms', 'NTUSER.DAT{0080b7e5-dcba-11ee-af10-00eebcdb9393}.TMContainer00000000000000000002.regtrans-ms', 'ntuser.ini', 'OneDrive', 'PrintHood', 'Recent', 'Saved Games', 'Searches', 'SendTo', 'Start Menu', 'Templates', 'texas-electrical-pe', 'Videos']\n",
      "c:\\Users\\carsw\\texas-electrical-pe\n",
      "['.git', 'README.md', 'texas-electrical-pe']\n",
      "c:\\Users\\carsw\\texas-electrical-pe\\texas-electrical-pe\n",
      "['measuremetns_instrumentation']\n",
      "c:\\Users\\carsw\\texas-electrical-pe\\texas-electrical-pe\\measuremetns_instrumentation\n",
      "['main.py', 'measuments_instrumentation.ipynb', '__pycache__']\n"
     ]
    }
   ],
   "source": [
    "import os\n",
    "import sys\n",
    "\n",
    "# Check the current working directory\n",
    "print(os.getcwd())\n",
    "print(os.listdir())\n",
    "\n",
    "# Navigate to the desired directory step-by-step\n",
    "os.chdir('c:/Users/carsw')\n",
    "print(os.getcwd())\n",
    "print(os.listdir())\n",
    "\n",
    "os.chdir('texas-electrical-pe')\n",
    "print(os.getcwd())\n",
    "print(os.listdir())\n",
    "\n",
    "os.chdir('texas-electrical-pe')\n",
    "print(os.getcwd())\n",
    "print(os.listdir())\n",
    "\n",
    "os.chdir('measurements_instrumentation')\n",
    "print(os.getcwd())\n",
    "print(os.listdir())\n",
    "\n",
    "# Add the correct path to sys.path\n",
    "sys.path.append('c:/Users/carsw/texas-electrical-pe/texas-electrical-pe/measurements_instrumentation/instrument_transformers')\n"
   ]
  },
  {
   "cell_type": "code",
   "execution_count": 1,
   "metadata": {},
   "outputs": [
    {
     "name": "stdout",
     "output_type": "stream",
     "text": [
      "c:\\Users\\carsw\\texas-electrical-pe\\texas-electrical-pe\\measurements_instrumentation\\instrument_transformers\n",
      "['main.py', 'measuments_instrumentation.ipynb', 'README.md']\n"
     ]
    }
   ],
   "source": [
    "import os\n",
    "import importlib.util\n",
    "\n",
    "# Navigate to the directory containing main.py\n",
    "os.chdir('c:/Users/carsw/texas-electrical-pe/texas-electrical-pe/measurements_instrumentation/instrument_transformers')\n",
    "print(os.getcwd())\n",
    "print(os.listdir())\n",
    "\n",
    "# Dynamically load the module\n",
    "spec = importlib.util.spec_from_file_location(\"main\", \"main.py\")\n",
    "main = importlib.util.module_from_spec(spec)\n",
    "spec.loader.exec_module(main)\n",
    "\n"
   ]
  },
  {
   "cell_type": "code",
   "execution_count": 4,
   "metadata": {},
   "outputs": [
    {
     "name": "stdout",
     "output_type": "stream",
     "text": [
      "Power Factor: 0.11111111111111112\n",
      "Phase Angle: 83.62062979155719 degrees\n"
     ]
    }
   ],
   "source": [
    "# Example usage with 'ratio' method\n",
    "power_factor, phase_angle_degrees = main.calculate_power_factor('ratio', 0.1, 0.9)\n",
    "print(f\"Power Factor: {power_factor}\")\n",
    "print(f\"Phase Angle: {phase_angle_degrees} degrees\")\n"
   ]
  },
  {
   "cell_type": "code",
   "execution_count": 3,
   "metadata": {},
   "outputs": [
    {
     "name": "stdout",
     "output_type": "stream",
     "text": [
      "Power Factor: 0.7071067811865476\n"
     ]
    }
   ],
   "source": [
    "# Example usage with 'cos' method\n",
    "power_factor, _ = main.calculate_power_factor('cos', theta=45)\n",
    "print(f\"Power Factor: {power_factor}\")"
   ]
  },
  {
   "cell_type": "code",
   "execution_count": 89,
   "metadata": {},
   "outputs": [
    {
     "name": "stdout",
     "output_type": "stream",
     "text": [
      "Complex Power: 2300\n"
     ]
    }
   ],
   "source": [
    "# Example usage for complex power without phase angle\n",
    "V = 230  # Voltage in volts\n",
    "I = 10   # Current in amperes\n",
    "complex_power = main.calculate_complex_power(V=V, I=I)\n",
    "print(f\"Complex Power: {complex_power}\")"
   ]
  },
  {
   "cell_type": "code",
   "execution_count": 90,
   "metadata": {},
   "outputs": [
    {
     "name": "stdout",
     "output_type": "stream",
     "text": [
      "Complex Power with Phase Angle: (1991.858428704209+1149.9999999999998j)\n"
     ]
    }
   ],
   "source": [
    "# Example usage for complex power with phase angle\n",
    "theta = 30  # Phase angle in degrees\n",
    "complex_power_with_angle = main.calculate_complex_power(V=V, I=I, theta=theta)\n",
    "print(f\"Complex Power with Phase Angle: {complex_power_with_angle}\")"
   ]
  },
  {
   "cell_type": "code",
   "execution_count": 91,
   "metadata": {},
   "outputs": [
    {
     "name": "stdout",
     "output_type": "stream",
     "text": [
      "Complex Power (P + jQ): (500+300j)\n"
     ]
    }
   ],
   "source": [
    "# Example usage for complex power with real and reactive power\n",
    "P = 500  # Real power in watts\n",
    "Q = 300  # Reactive power in VAR\n",
    "complex_power_pq = main.calculate_complex_power(P=P, Q=Q)\n",
    "print(f\"Complex Power (P + jQ): {complex_power_pq}\")"
   ]
  },
  {
   "cell_type": "code",
   "execution_count": 92,
   "metadata": {},
   "outputs": [
    {
     "name": "stdout",
     "output_type": "stream",
     "text": [
      "Total Power: 350 W\n",
      "Reactive Power: 50.0 VAR\n",
      "Apparent Power: 353.5533905932738 VA\n"
     ]
    }
   ],
   "source": [
    "# Example usage for Two-Wattmeter Method\n",
    "W1 = 200  # Power measured by the first wattmeter\n",
    "W2 = 150  # Power measured by the second wattmeter\n",
    "P, Q, S = main.two_wattmeter_method(W1, W2)\n",
    "print(f\"Total Power: {P} W\")\n",
    "print(f\"Reactive Power: {Q} VAR\")\n",
    "print(f\"Apparent Power: {S} VA\")"
   ]
  },
  {
   "cell_type": "code",
   "execution_count": 93,
   "metadata": {},
   "outputs": [
    {
     "name": "stdout",
     "output_type": "stream",
     "text": [
      "Apparent Power: 583.09518948453 VA\n",
      "Real Power: 500 W\n",
      "Reactive Power: 300 VAR\n"
     ]
    }
   ],
   "source": [
    "# Example usage for Power Triangle\n",
    "S, P, Q = main.power_triangle(P=500, Q=300)\n",
    "print(f\"Apparent Power: {S} VA\")\n",
    "print(f\"Real Power: {P} W\")\n",
    "print(f\"Reactive Power: {Q} VAR\")"
   ]
  },
  {
   "cell_type": "code",
   "execution_count": 94,
   "metadata": {},
   "outputs": [
    {
     "name": "stdout",
     "output_type": "stream",
     "text": [
      "Current Transformer Ratio (CTR): 200.0\n"
     ]
    }
   ],
   "source": [
    "# Example usage for Current Transformer Ratio\n",
    "primary_current = 1000  # Primary current in amperes\n",
    "secondary_current = 5   # Secondary current in amperes\n",
    "ct_ratio = main.calculate_ct_ratio(primary_current, secondary_current)\n",
    "print(f\"Current Transformer Ratio (CTR): {ct_ratio}\")"
   ]
  },
  {
   "cell_type": "code",
   "execution_count": 95,
   "metadata": {},
   "outputs": [
    {
     "name": "stdout",
     "output_type": "stream",
     "text": [
      "Tap Setting: 0.025\n"
     ]
    }
   ],
   "source": [
    "# Example usage for Tap Setting Selection\n",
    "relay_current = 5  # Desired relay current in amperes\n",
    "tap_setting = main.select_tap_setting(relay_current, ct_ratio)\n",
    "print(f\"Tap Setting: {tap_setting}\")"
   ]
  },
  {
   "cell_type": "code",
   "execution_count": 96,
   "metadata": {},
   "outputs": [
    {
     "name": "stdout",
     "output_type": "stream",
     "text": [
      "Voltage Transformer Ratio (VTR): 100.0\n"
     ]
    }
   ],
   "source": [
    "# Example usage for Voltage Transformer Ratio\n",
    "primary_voltage = 11000  # Primary voltage in volts\n",
    "secondary_voltage = 110  # Secondary voltage in volts\n",
    "vt_ratio = main.calculate_vt_ratio(primary_voltage, secondary_voltage)\n",
    "print(f\"Voltage Transformer Ratio (VTR): {vt_ratio}\")"
   ]
  }
 ],
 "metadata": {
  "kernelspec": {
   "display_name": "Python (electPE)",
   "language": "python",
   "name": "electpe"
  },
  "language_info": {
   "codemirror_mode": {
    "name": "ipython",
    "version": 3
   },
   "file_extension": ".py",
   "mimetype": "text/x-python",
   "name": "python",
   "nbconvert_exporter": "python",
   "pygments_lexer": "ipython3",
   "version": "3.12.4"
  }
 },
 "nbformat": 4,
 "nbformat_minor": 2
}
