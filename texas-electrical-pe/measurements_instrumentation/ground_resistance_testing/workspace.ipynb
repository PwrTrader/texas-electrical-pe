{
 "cells": [
  {
   "cell_type": "code",
   "execution_count": 1,
   "metadata": {},
   "outputs": [
    {
     "name": "stdout",
     "output_type": "stream",
     "text": [
      "c:\\Users\\carsw\\texas-electrical-pe\\texas-electrical-pe\\measurements_instrumentation\\ground_resistance_testing\n",
      "['main.py', 'workspace.ipynb']\n"
     ]
    }
   ],
   "source": [
    "import os\n",
    "import importlib.util\n",
    "\n",
    "# Navigate to the directory containing main.py\n",
    "os.chdir('c:/Users/carsw/texas-electrical-pe/texas-electrical-pe/measurements_instrumentation/ground_resistance_testing')\n",
    "print(os.getcwd())\n",
    "print(os.listdir())\n",
    "\n",
    "# Dynamically load the module\n",
    "spec = importlib.util.spec_from_file_location(\"main\", \"main.py\")\n",
    "main = importlib.util.module_from_spec(spec)\n",
    "spec.loader.exec_module(main)\n"
   ]
  },
  {
   "cell_type": "code",
   "execution_count": 2,
   "metadata": {},
   "outputs": [
    {
     "name": "stdout",
     "output_type": "stream",
     "text": [
      "Ground Resistance using Wenner Method: 6031.857894892402 Ω\n"
     ]
    }
   ],
   "source": [
    "\n",
    "# Example usage for Wenner Method (Equally Spaced 4-Pin Method)\n",
    "V = 48  # Voltage in volts\n",
    "I = 0.5  # Current in amperes\n",
    "spacing = 10  # Spacing between electrodes in meters\n",
    "ground_resistance_wenner = main.wenner_method(V, I, spacing)\n",
    "print(f\"Ground Resistance using Wenner Method: {ground_resistance_wenner} Ω\")"
   ]
  },
  {
   "cell_type": "code",
   "execution_count": 3,
   "metadata": {},
   "outputs": [
    {
     "name": "stdout",
     "output_type": "stream",
     "text": [
      "Ground Resistance using Schlumberger Method: 11309.733552923255 Ω\n"
     ]
    }
   ],
   "source": [
    "# Example usage for Schlumberger Method (Unequally Spaced 4-Pin Method)\n",
    "spacing_a = 20  # Spacing between current electrodes in meters\n",
    "spacing_b = 5   # Spacing between voltage electrodes in meters\n",
    "ground_resistance_schlumberger = main.schlumberger_method(V, I, spacing_a, spacing_b)\n",
    "print(f\"Ground Resistance using Schlumberger Method: {ground_resistance_schlumberger} Ω\")"
   ]
  },
  {
   "cell_type": "code",
   "execution_count": 4,
   "metadata": {},
   "outputs": [
    {
     "name": "stdout",
     "output_type": "stream",
     "text": [
      "Ground Resistance using Driven Rod Method: 10.0 Ω\n"
     ]
    }
   ],
   "source": [
    "# Example usage for Driven Rod Method (Variation of Depth Method)\n",
    "R1 = 50  # Ground resistance with one length of rod in ohms\n",
    "L1 = 1   # Length of the first rod in meters\n",
    "R2 = 30  # Ground resistance with a different length of rod in ohms\n",
    "L2 = 2   # Length of the second rod in meters\n",
    "ground_resistance_driven_rod = main.driven_rod_method(R1, L1, R2, L2)\n",
    "print(f\"Ground Resistance using Driven Rod Method: {ground_resistance_driven_rod} Ω\")"
   ]
  }
 ],
 "metadata": {
  "kernelspec": {
   "display_name": "Python (electPE)",
   "language": "python",
   "name": "electpe"
  },
  "language_info": {
   "codemirror_mode": {
    "name": "ipython",
    "version": 3
   },
   "file_extension": ".py",
   "mimetype": "text/x-python",
   "name": "python",
   "nbconvert_exporter": "python",
   "pygments_lexer": "ipython3",
   "version": "3.12.4"
  }
 },
 "nbformat": 4,
 "nbformat_minor": 2
}
