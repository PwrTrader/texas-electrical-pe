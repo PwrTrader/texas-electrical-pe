{
 "cells": [
  {
   "cell_type": "code",
   "execution_count": 1,
   "metadata": {},
   "outputs": [
    {
     "name": "stdout",
     "output_type": "stream",
     "text": [
      "c:\\Users\\carsw\\texas-electrical-pe\\texas-electrical-pe\\applications\\lightning_protection\n",
      "['main.py']\n"
     ]
    }
   ],
   "source": [
    "import os\n",
    "import importlib.util\n",
    "\n",
    "# Navigate to the directory containing main.py\n",
    "os.chdir('c:/Users/carsw/texas-electrical-pe/texas-electrical-pe/applications/lightning_protection/')\n",
    "print(os.getcwd())\n",
    "print(os.listdir())\n",
    "\n",
    "# Dynamically load the module\n",
    "spec = importlib.util.spec_from_file_location(\"main\", \"main.py\")\n",
    "main = importlib.util.module_from_spec(spec)\n",
    "spec.loader.exec_module(main)"
   ]
  },
  {
   "cell_type": "code",
   "execution_count": 2,
   "metadata": {},
   "outputs": [
    {
     "name": "stdout",
     "output_type": "stream",
     "text": [
      "Annual Lightning Strike Frequency: 1250.0 strikes per year\n"
     ]
    }
   ],
   "source": [
    "# Example usage for Annual Lightning Strike Frequency\n",
    "Ng = 5  # Ground flash density (flashes per square kilometer per year)\n",
    "Ae = 500  # Equivalent collection area in square meters\n",
    "C = 0.5  # Environment factor\n",
    "annual_strike_frequency = main.annual_lightning_strike_frequency(Ng, Ae, C)\n",
    "print(f\"Annual Lightning Strike Frequency: {annual_strike_frequency} strikes per year\")"
   ]
  },
  {
   "cell_type": "code",
   "execution_count": 3,
   "metadata": {},
   "outputs": [
    {
     "name": "stdout",
     "output_type": "stream",
     "text": [
      "Equivalent Collection Area: 1314.1592653589794 m²\n"
     ]
    }
   ],
   "source": [
    "# Example usage for Equivalent Collection Area of a Rectangular Structure\n",
    "length = 20  # Length of the structure in meters\n",
    "width = 15   # Width of the structure in meters\n",
    "height = 10  # Height of the structure in meters\n",
    "collection_area = main.equivalent_collection_area(length, width, height)\n",
    "print(f\"Equivalent Collection Area: {collection_area} m²\")"
   ]
  },
  {
   "cell_type": "code",
   "execution_count": 4,
   "metadata": {},
   "outputs": [
    {
     "name": "stdout",
     "output_type": "stream",
     "text": [
      "Tolerable Lightning Frequency: 10.0 strikes per year\n"
     ]
    }
   ],
   "source": [
    "# Example usage for Tolerable Lightning Frequency\n",
    "Nd = 1  # Number of dangerous events per year\n",
    "Nc = 0.1  # Number of tolerated lightning strikes per year\n",
    "tolerable_frequency = main.tolerable_lightning_frequency(Nd, Nc)\n",
    "print(f\"Tolerable Lightning Frequency: {tolerable_frequency} strikes per year\")"
   ]
  }
 ],
 "metadata": {
  "kernelspec": {
   "display_name": "Python (electPE)",
   "language": "python",
   "name": "electpe"
  },
  "language_info": {
   "codemirror_mode": {
    "name": "ipython",
    "version": 3
   },
   "file_extension": ".py",
   "mimetype": "text/x-python",
   "name": "python",
   "nbconvert_exporter": "python",
   "pygments_lexer": "ipython3",
   "version": "3.12.4"
  }
 },
 "nbformat": 4,
 "nbformat_minor": 2
}
