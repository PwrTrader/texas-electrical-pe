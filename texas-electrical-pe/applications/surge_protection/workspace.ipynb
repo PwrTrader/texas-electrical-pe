{
 "cells": [
  {
   "cell_type": "code",
   "execution_count": 2,
   "metadata": {},
   "outputs": [
    {
     "name": "stdout",
     "output_type": "stream",
     "text": [
      "c:\\Users\\carsw\\texas-electrical-pe\\texas-electrical-pe\\applications\\surge_protection\n",
      "['main.py', 'workspace.ipynb', '__pycache__']\n"
     ]
    }
   ],
   "source": [
    "import os\n",
    "import importlib.util\n",
    "\n",
    "# Navigate to the directory containing main.py\n",
    "os.chdir('c:/Users/carsw/texas-electrical-pe/texas-electrical-pe/applications/surge_protection/')\n",
    "print(os.getcwd())\n",
    "print(os.listdir())\n",
    "\n",
    "# Dynamically load the module\n",
    "spec = importlib.util.spec_from_file_location(\"main\", \"main.py\")\n",
    "main = importlib.util.module_from_spec(spec)\n",
    "spec.loader.exec_module(main)"
   ]
  },
  {
   "cell_type": "code",
   "execution_count": 3,
   "metadata": {},
   "outputs": [
    {
     "name": "stdout",
     "output_type": "stream",
     "text": [
      "Surge Impedance Loading: 297562500.0 W\n"
     ]
    }
   ],
   "source": [
    "# Example usage for Surge Impedance Loading\n",
    "V = 345000  # Voltage in volts\n",
    "Zc = 400  # Characteristic impedance in ohms\n",
    "sil = main.surge_impedance_loading(V, Zc)\n",
    "print(f\"Surge Impedance Loading: {sil} W\")"
   ]
  },
  {
   "cell_type": "code",
   "execution_count": 4,
   "metadata": {},
   "outputs": [
    {
     "name": "stdout",
     "output_type": "stream",
     "text": [
      "Characteristic Impedance: 31.622776601683796 Ω\n"
     ]
    }
   ],
   "source": [
    "# Example usage for Characteristic Impedance\n",
    "L = 0.001  # Inductance per unit length in henries per meter\n",
    "C = 0.000001  # Capacitance per unit length in farads per meter\n",
    "Zc = main.characteristic_impedance(L, C)\n",
    "print(f\"Characteristic Impedance: {Zc} Ω\")"
   ]
  },
  {
   "cell_type": "code",
   "execution_count": 6,
   "metadata": {},
   "outputs": [
    {
     "name": "stdout",
     "output_type": "stream",
     "text": [
      "Protection Quality Index: 0.5\n"
     ]
    }
   ],
   "source": [
    "# Example usage for Protection Quality Index\n",
    "protected_value = 5  # Value of the protected parameter\n",
    "unprotected_value = 10  # Value of the unprotected parameter\n",
    "pqi = main.protection_quality_index(protected_value, unprotected_value)\n",
    "print(f\"Protection Quality Index: {pqi}\")"
   ]
  },
  {
   "cell_type": "code",
   "execution_count": 5,
   "metadata": {},
   "outputs": [
    {
     "name": "stdout",
     "output_type": "stream",
     "text": [
      "Protective Margin: 5\n"
     ]
    }
   ],
   "source": [
    "# Example usage for Protective Margin\n",
    "design_margin = 15  # Design margin\n",
    "actual_margin = 10  # Actual margin\n",
    "pm = main.protective_margin(design_margin, actual_margin)\n",
    "print(f\"Protective Margin: {pm}\")"
   ]
  }
 ],
 "metadata": {
  "kernelspec": {
   "display_name": "Python (electPE)",
   "language": "python",
   "name": "electpe"
  },
  "language_info": {
   "codemirror_mode": {
    "name": "ipython",
    "version": 3
   },
   "file_extension": ".py",
   "mimetype": "text/x-python",
   "name": "python",
   "nbconvert_exporter": "python",
   "pygments_lexer": "ipython3",
   "version": "3.12.4"
  }
 },
 "nbformat": 4,
 "nbformat_minor": 2
}
