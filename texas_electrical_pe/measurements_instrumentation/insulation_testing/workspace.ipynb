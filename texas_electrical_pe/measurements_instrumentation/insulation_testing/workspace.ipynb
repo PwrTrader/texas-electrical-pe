{
 "cells": [
  {
   "cell_type": "code",
   "execution_count": 2,
   "metadata": {},
   "outputs": [
    {
     "name": "stdout",
     "output_type": "stream",
     "text": [
      "c:\\Users\\carsw\\texas-electrical-pe\\texas-electrical-pe\\measurements_instrumentation\\insulation_testing\n",
      "['main.py', 'workspace.ipynb']\n"
     ]
    }
   ],
   "source": [
    "import os\n",
    "import importlib.util\n",
    "\n",
    "# Navigate to the directory containing main.py\n",
    "os.chdir('c:/Users/carsw/texas-electrical-pe/texas-electrical-pe/measurements_instrumentation/insulation_testing')\n",
    "print(os.getcwd())\n",
    "print(os.listdir())\n",
    "\n",
    "# Dynamically load the module\n",
    "spec = importlib.util.spec_from_file_location(\"main\", \"main.py\")\n",
    "main = importlib.util.module_from_spec(spec)\n",
    "spec.loader.exec_module(main)"
   ]
  },
  {
   "cell_type": "code",
   "execution_count": 8,
   "metadata": {},
   "outputs": [
    {
     "name": "stdout",
     "output_type": "stream",
     "text": [
      "Absorption Current: 2.4787521766663585e-05 A\n"
     ]
    }
   ],
   "source": [
    "# Example usage for Absorption Current\n",
    "I0 = 0.01  # Initial current in amperes\n",
    "time = 60  # Time in seconds\n",
    "constant = 0.1  # Absorption constant\n",
    "absorption_current = main.absorption_current(I0, time, constant)\n",
    "print(f\"Absorption Current: {absorption_current} A\")"
   ]
  },
  {
   "cell_type": "code",
   "execution_count": 7,
   "metadata": {},
   "outputs": [
    {
     "name": "stdout",
     "output_type": "stream",
     "text": [
      "Minimum Insulation Resistance: 250000.0 Ω\n"
     ]
    }
   ],
   "source": [
    "# Example usage for Minimum Insulation Resistance\n",
    "V = 500  # Voltage in volts\n",
    "I = 0.002  # Current in amperes\n",
    "min_insulation_resistance = main.minimum_insulation_resistance(V, I)\n",
    "print(f\"Minimum Insulation Resistance: {min_insulation_resistance} Ω\")"
   ]
  },
  {
   "cell_type": "code",
   "execution_count": 6,
   "metadata": {},
   "outputs": [
    {
     "name": "stdout",
     "output_type": "stream",
     "text": [
      "Insulation Resistance at 40°C: 44932.896411722155 Ω\n"
     ]
    }
   ],
   "source": [
    "# Example usage for Effect of Temperature on Insulation Resistance\n",
    "R0 = 100000  # Insulation resistance at reference temperature in ohms\n",
    "T = 40  # Temperature in degrees Celsius\n",
    "T0 = 20  # Reference temperature in degrees Celsius\n",
    "k = 0.04  # Temperature coefficient\n",
    "insulation_resistance_temp_effect = main.effect_of_temperature_on_insulation_resistance(R0, T, T0, k)\n",
    "print(f\"Insulation Resistance at {T}°C: {insulation_resistance_temp_effect} Ω\")"
   ]
  },
  {
   "cell_type": "code",
   "execution_count": 5,
   "metadata": {},
   "outputs": [
    {
     "name": "stdout",
     "output_type": "stream",
     "text": [
      "Coefficient k for Thermosetting Insulation Systems: 0.3\n"
     ]
    }
   ],
   "source": [
    "# Example usage for Coefficient k for Thermosetting Insulation Systems\n",
    "T = 60  # Temperature in degrees Celsius\n",
    "k_thermosetting = main.coefficient_k_thermosetting(T)\n",
    "print(f\"Coefficient k for Thermosetting Insulation Systems: {k_thermosetting}\")"
   ]
  },
  {
   "cell_type": "code",
   "execution_count": 4,
   "metadata": {},
   "outputs": [
    {
     "name": "stdout",
     "output_type": "stream",
     "text": [
      "Coefficient k for Thermoplastic Insulation Systems: 0.36\n"
     ]
    }
   ],
   "source": [
    "# Example usage for Coefficient k for Thermoplastic Insulation Systems\n",
    "T = 60  # Temperature in degrees Celsius\n",
    "k_thermoplastic = main.coefficient_k_thermoplastic(T)\n",
    "print(f\"Coefficient k for Thermoplastic Insulation Systems: {k_thermoplastic}\")"
   ]
  },
  {
   "cell_type": "code",
   "execution_count": 3,
   "metadata": {},
   "outputs": [
    {
     "name": "stdout",
     "output_type": "stream",
     "text": [
      "Polarization Index: 5.0\n"
     ]
    }
   ],
   "source": [
    "# Example usage for Polarization Index\n",
    "R60 = 100000  # Insulation resistance at 60 seconds in ohms\n",
    "R10 = 20000  # Insulation resistance at 10 seconds in ohms\n",
    "polarization_index = main.polarization_index(R60, R10)\n",
    "print(f\"Polarization Index: {polarization_index}\")"
   ]
  }
 ],
 "metadata": {
  "kernelspec": {
   "display_name": "Python (electPE)",
   "language": "python",
   "name": "electpe"
  },
  "language_info": {
   "codemirror_mode": {
    "name": "ipython",
    "version": 3
   },
   "file_extension": ".py",
   "mimetype": "text/x-python",
   "name": "python",
   "nbconvert_exporter": "python",
   "pygments_lexer": "ipython3",
   "version": "3.12.4"
  }
 },
 "nbformat": 4,
 "nbformat_minor": 2
}
